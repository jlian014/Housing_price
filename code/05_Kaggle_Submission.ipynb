{
 "cells": [
  {
   "cell_type": "markdown",
   "metadata": {},
   "source": [
    "\n",
    "#  Kaggle Submission"
   ]
  },
  {
   "cell_type": "code",
   "execution_count": 2,
   "metadata": {},
   "outputs": [],
   "source": [
    "import pandas as pd\n",
    "from sklearn.preprocessing import StandardScaler,PolynomialFeatures\n",
    "from sklearn.linear_model import LinearRegression\n",
    "import pickle\n",
    "import numpy as np\n",
    "np.random.seed(42)"
   ]
  },
  {
   "cell_type": "markdown",
   "metadata": {},
   "source": [
    "## Load in trained model and scaler"
   ]
  },
  {
   "cell_type": "code",
   "execution_count": 6,
   "metadata": {},
   "outputs": [],
   "source": [
    "with open('../assets/gs_model.pkl', 'rb') as f:\n",
    "    gs = pickle.load(f)\n",
    "\n",
    "with open('../assets/columns.pkl','rb') as f:\n",
    "    columns = pickle.load(f)"
   ]
  },
  {
   "cell_type": "markdown",
   "metadata": {},
   "source": [
    "## Load kaggle data"
   ]
  },
  {
   "cell_type": "code",
   "execution_count": 7,
   "metadata": {},
   "outputs": [],
   "source": [
    "kaggle = pd.read_csv('../datasets/test.csv', index_col='Id')"
   ]
  },
  {
   "cell_type": "markdown",
   "metadata": {},
   "source": [
    "## Clean data in same method as training data"
   ]
  },
  {
   "cell_type": "code",
   "execution_count": 8,
   "metadata": {},
   "outputs": [],
   "source": [
    "kaggle['Lot Frontage'] = kaggle.apply(lambda row: round(row['Lot Area']*0.003 +43.332,1)\n",
    "                                      if np.isnan(row['Lot Frontage']) else row['Lot Frontage'],axis =1)"
   ]
  },
  {
   "cell_type": "code",
   "execution_count": 9,
   "metadata": {},
   "outputs": [],
   "source": [
    "kaggle['Total_Bath'] = kaggle['Full Bath'] + 0.5 * kaggle['Half Bath']+ kaggle['Bsmt Full Bath'] + 0.5 * kaggle['Bsmt Half Bath']"
   ]
  },
  {
   "cell_type": "code",
   "execution_count": 10,
   "metadata": {},
   "outputs": [],
   "source": [
    "kaggle.fillna(kaggle[['Fireplace Qu', 'Garage Finish','Garage Qual','Garage Cond',\n",
    "                    'Garage Type', 'Bsmt Cond', 'Bsmt Qual', 'Bsmt Exposure', \n",
    "                    'BsmtFin Type 1', 'BsmtFin Type 2','Mas Vnr Type']].fillna('None'),inplace=True)\n",
    "\n",
    "kaggle.fillna(kaggle[['Bsmt Half Bath','Bsmt Full Bath','BsmtFin SF 1','BsmtFin SF 2',\n",
    "                    'Bsmt Unf SF','Total Bsmt SF','Mas Vnr Area','Garage Cars',\n",
    "                    'Garage Area']].fillna(0),inplace=True)"
   ]
  },
  {
   "cell_type": "code",
   "execution_count": 11,
   "metadata": {},
   "outputs": [],
   "source": [
    "kaggle['Garage Yr Blt']= kaggle.apply(lambda row: row['Year Built'] \n",
    "                                     if np.isnan(row['Garage Yr Blt']) else row['Garage Yr Blt'],axis =1)"
   ]
  },
  {
   "cell_type": "code",
   "execution_count": 12,
   "metadata": {},
   "outputs": [],
   "source": [
    "kaggle[\"Total_Sqft\"] = kaggle[\"Gr Liv Area\"] + kaggle[\"Total Bsmt SF\"]\n",
    "kaggle['Lot Area'] = np.log(kaggle['Lot Area'])\n",
    "kaggle['Lot Frontage'] = np.log(kaggle['Lot Area'])\n",
    "\n",
    "### There are some categorical features can be converted into ordered numbers when the information shows the ordered relationship. For example, when the categorical feature contain  'po', 'Fa', 'Ex', they can be encoded as 1, 2, 3. \n",
    "\n",
    "kaggle = kaggle.replace({\"Bsmt Cond\" : {\"None\" : 0, \"Po\" : 1, \"Fa\" : 2, \"TA\" : 3, \"Gd\" : 4, \"Ex\" : 5},\n",
    "                       \"Bsmt Qual\" : {\"None\" : 0, \"Po\" : 1, \"Fa\" : 2, \"TA\": 3, \"Gd\" : 4, \"Ex\" : 5},\n",
    "                       \"Exter Cond\" : {\"Po\" : 1, \"Fa\" : 2, \"TA\": 3, \"Gd\": 4, \"Ex\" : 5},\n",
    "                       \"Exter Qual\" : {\"Po\" : 1, \"Fa\" : 2, \"TA\": 3, \"Gd\": 4, \"Ex\" : 5},\n",
    "                       \"Firep laceQu\" : {\"None\" : 0, \"Po\" : 1, \"Fa\" : 2, \"TA\" : 3, \"Gd\" : 4, \"Ex\" : 5},\n",
    "                       \"Garage Cond\" : {\"None\" : 0, \"Po\" : 1, \"Fa\" : 2, \"TA\" : 3, \"Gd\" : 4, \"Ex\" : 5},\n",
    "                       \"Garage Qual\" : {\"None\" : 0, \"Po\" : 1, \"Fa\" : 2, \"TA\" : 3, \"Gd\" : 4, \"Ex\" : 5},\n",
    "                       \"Heating QC\" : {\"Po\" : 1, \"Fa\" : 2, \"TA\" : 3, \"Gd\" : 4, \"Ex\" : 5},\n",
    "                       \"Kitchen Qual\" : {\"Po\" : 1, \"Fa\" : 2, \"TA\" : 3, \"Gd\" : 4, \"Ex\" : 5},\n",
    "                       \"Garage Finish\" : {\"None\" : 0, \"Unf\" : 1, \"RFn\" : 2, \"Fin\" : 3}})\n",
    "Feature = kaggle[['Overall Qual','Total_Sqft','Gr Liv Area','Exter Qual']]\n"
   ]
  },
  {
   "cell_type": "code",
   "execution_count": 13,
   "metadata": {},
   "outputs": [],
   "source": [
    "poly = PolynomialFeatures()\n",
    "Feature = kaggle[['Overall Qual','Total_Sqft','Gr Liv Area','Exter Qual']]\n",
    "Feature_poly = poly.fit_transform(Feature)\n",
    "poly_col_names = poly.get_feature_names(['Overall Qual','Total_Sqft','Gr Liv Area','Exter Qual'])\n",
    "X_TopFea_Poly = pd.DataFrame(Feature_poly, columns=poly_col_names, index=kaggle.index).iloc[:,5:]\n",
    "\n",
    "kaggle = pd.concat([X_TopFea_Poly,kaggle],axis=1)"
   ]
  },
  {
   "cell_type": "code",
   "execution_count": 14,
   "metadata": {},
   "outputs": [],
   "source": [
    "kaggle_dummies = pd.get_dummies(kaggle)"
   ]
  },
  {
   "cell_type": "code",
   "execution_count": 15,
   "metadata": {
    "scrolled": false
   },
   "outputs": [],
   "source": [
    "diff = (columns).difference(kaggle_dummies.columns)"
   ]
  },
  {
   "cell_type": "code",
   "execution_count": 16,
   "metadata": {},
   "outputs": [],
   "source": [
    "for x in diff:\n",
    "    kaggle_dummies[x] = 0"
   ]
  },
  {
   "cell_type": "code",
   "execution_count": 17,
   "metadata": {},
   "outputs": [],
   "source": [
    "kaggle = kaggle_dummies[columns]"
   ]
  },
  {
   "cell_type": "markdown",
   "metadata": {},
   "source": [
    "## Make predictions"
   ]
  },
  {
   "cell_type": "code",
   "execution_count": 19,
   "metadata": {
    "scrolled": true
   },
   "outputs": [],
   "source": [
    "preds = gs.predict(kaggle)"
   ]
  },
  {
   "cell_type": "markdown",
   "metadata": {},
   "source": [
    "## Align predictions back with index and set up header"
   ]
  },
  {
   "cell_type": "code",
   "execution_count": 20,
   "metadata": {},
   "outputs": [],
   "source": [
    "submission = pd.DataFrame(preds, index=kaggle.index, columns=['SalePrice'])"
   ]
  },
  {
   "cell_type": "markdown",
   "metadata": {},
   "source": [
    "## Sort index (required for proper submission)"
   ]
  },
  {
   "cell_type": "code",
   "execution_count": 22,
   "metadata": {},
   "outputs": [],
   "source": [
    "submission.sort_index(inplace=True)"
   ]
  },
  {
   "cell_type": "markdown",
   "metadata": {},
   "source": [
    "## Save to csv to submit"
   ]
  },
  {
   "cell_type": "code",
   "execution_count": 24,
   "metadata": {},
   "outputs": [],
   "source": [
    "submission.to_csv('../datasets/ridge_kaggle.csv')"
   ]
  },
  {
   "cell_type": "markdown",
   "metadata": {},
   "source": [
    "## Use command line `head` to check data is correct format"
   ]
  },
  {
   "cell_type": "code",
   "execution_count": 25,
   "metadata": {},
   "outputs": [
    {
     "name": "stdout",
     "output_type": "stream",
     "text": [
      "Id,SalePrice\r\n",
      "2,116986.2793339451\r\n",
      "4,261049.48629398775\r\n",
      "6,188714.11628508594\r\n",
      "7,213538.1267971736\r\n",
      "17,191693.2130128413\r\n",
      "18,344220.8137857348\r\n",
      "22,193218.97558871322\r\n",
      "27,121464.23490429565\r\n",
      "31,86436.7802346754\r\n"
     ]
    }
   ],
   "source": [
    "!head ../datasets/ridge_kaggle.csv"
   ]
  }
 ],
 "metadata": {
  "kernelspec": {
   "display_name": "Python 3",
   "language": "python",
   "name": "python3"
  },
  "language_info": {
   "codemirror_mode": {
    "name": "ipython",
    "version": 3
   },
   "file_extension": ".py",
   "mimetype": "text/x-python",
   "name": "python",
   "nbconvert_exporter": "python",
   "pygments_lexer": "ipython3",
   "version": "3.7.0"
  }
 },
 "nbformat": 4,
 "nbformat_minor": 2
}
